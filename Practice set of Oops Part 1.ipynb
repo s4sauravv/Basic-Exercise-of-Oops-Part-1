{
 "cells": [
  {
   "cell_type": "code",
   "execution_count": null,
   "id": "c7389dd8",
   "metadata": {},
   "outputs": [],
   "source": [
    "# Basic Class Exercise"
   ]
  },
  {
   "cell_type": "code",
   "execution_count": 1,
   "id": "3e5cbab6",
   "metadata": {},
   "outputs": [],
   "source": [
    "# 1-Create a class programmer for storing information of a few programmers working at Microsoft."
   ]
  },
  {
   "cell_type": "code",
   "execution_count": 8,
   "id": "a2285197",
   "metadata": {},
   "outputs": [],
   "source": [
    "class Programmer:\n",
    "    comapny=\"Microsoft\"\n",
    "    def __init__(self,name,product):\n",
    "        self.name=name\n",
    "        self.product=product\n",
    "    def getinfo(self):\n",
    "        print(\"The name of programmer is   \",self.name,\"and his product is  \",self.product)\n",
    "    "
   ]
  },
  {
   "cell_type": "code",
   "execution_count": 13,
   "id": "2fb8dec2",
   "metadata": {},
   "outputs": [],
   "source": [
    "j=Programmer(\"saurav\",\"skype\")"
   ]
  },
  {
   "cell_type": "code",
   "execution_count": 14,
   "id": "b8d5e238",
   "metadata": {},
   "outputs": [
    {
     "name": "stdout",
     "output_type": "stream",
     "text": [
      "The name of programmer is    saurav and his product is   skype\n"
     ]
    }
   ],
   "source": [
    "j.getinfo()"
   ]
  },
  {
   "cell_type": "code",
   "execution_count": 15,
   "id": "a6c8054f",
   "metadata": {},
   "outputs": [],
   "source": [
    "# 2- Write a class calculator capable of finding square, cube, and the square root of a number.\n"
   ]
  },
  {
   "cell_type": "code",
   "execution_count": 28,
   "id": "3993fb49",
   "metadata": {},
   "outputs": [],
   "source": [
    "class Calculator:\n",
    "    def __init__(self,number):\n",
    "        self.number=number\n",
    "    def square(self):\n",
    "        print(\"The Square of a  \",self.number,\"is\",self.number ** 2)\n",
    "    def sqaureroot(self):\n",
    "        print(\"The Sqaure root of a number is  \",self.number*0.5)\n",
    "    def cube(self):\n",
    "        print(\"The Cube of a number is \",self.number **3)"
   ]
  },
  {
   "cell_type": "code",
   "execution_count": 29,
   "id": "b3665e3a",
   "metadata": {},
   "outputs": [],
   "source": [
    "p=Calculator(4)"
   ]
  },
  {
   "cell_type": "code",
   "execution_count": 30,
   "id": "16a8afbd",
   "metadata": {},
   "outputs": [
    {
     "name": "stdout",
     "output_type": "stream",
     "text": [
      "The Square of a   4 is 16\n"
     ]
    }
   ],
   "source": [
    "p.square()"
   ]
  },
  {
   "cell_type": "code",
   "execution_count": 31,
   "id": "d0568a0e",
   "metadata": {},
   "outputs": [
    {
     "name": "stdout",
     "output_type": "stream",
     "text": [
      "The Sqaure root of a number is   2.0\n"
     ]
    }
   ],
   "source": [
    "p.sqaureroot()"
   ]
  },
  {
   "cell_type": "code",
   "execution_count": 32,
   "id": "ab8d495e",
   "metadata": {},
   "outputs": [
    {
     "name": "stdout",
     "output_type": "stream",
     "text": [
      "The Cube of a number is  64\n"
     ]
    }
   ],
   "source": [
    "p.cube()"
   ]
  },
  {
   "cell_type": "code",
   "execution_count": 33,
   "id": "8d88bdd8",
   "metadata": {},
   "outputs": [],
   "source": [
    "# 3 - Create a class with a class attribute a; create an object from it and set a directly using\n",
    "#     object.a=0 Does this change the class attribute?"
   ]
  },
  {
   "cell_type": "code",
   "execution_count": 46,
   "id": "0b6ce3e6",
   "metadata": {},
   "outputs": [
    {
     "data": {
      "text/plain": [
       "'Ramesh'"
      ]
     },
     "execution_count": 46,
     "metadata": {},
     "output_type": "execute_result"
    }
   ],
   "source": [
    "class Sample:\n",
    "    company=\"Saurav\"\n",
    "k=Sample()\n",
    "k.company=\"Ramesh\"\n",
    "k.company\n",
    "\n",
    "    \n",
    "    "
   ]
  },
  {
   "cell_type": "code",
   "execution_count": 48,
   "id": "5294c4fc",
   "metadata": {},
   "outputs": [
    {
     "name": "stdout",
     "output_type": "stream",
     "text": [
      "Saurav\n"
     ]
    }
   ],
   "source": [
    "print(Sample.company) #Its not changed"
   ]
  },
  {
   "cell_type": "code",
   "execution_count": 43,
   "id": "c113bea8",
   "metadata": {},
   "outputs": [],
   "source": [
    "# 4- Add a static method in problem 2 to greet the user with hello."
   ]
  },
  {
   "cell_type": "code",
   "execution_count": 61,
   "id": "b75a1ab3",
   "metadata": {},
   "outputs": [
    {
     "name": "stdout",
     "output_type": "stream",
     "text": [
      "Hello Mr- Saurav\n",
      "The Square of a   9 is 81\n",
      "The Sqaure root of a number is   4.5\n",
      "The Cube of a number is  729\n"
     ]
    }
   ],
   "source": [
    "class Calculator:\n",
    "    def __init__(self,number):\n",
    "        self.number=number\n",
    "    def square(self):\n",
    "        print(\"The Square of a  \",self.number,\"is\",self.number ** 2)\n",
    "    def sqaureroot(self):\n",
    "        print(\"The Sqaure root of a number is  \",self.number*0.5)\n",
    "    def cube(self):\n",
    "        print(\"The Cube of a number is \",self.number **3)\n",
    "    @staticmethod    \n",
    "    def greet():\n",
    "        print(\"Hello Mr- Saurav\")\n",
    "s=Calculator(9)\n",
    "s.greet()\n",
    "s.square()\n",
    "s.sqaureroot()\n",
    "s.cube()"
   ]
  },
  {
   "cell_type": "code",
   "execution_count": null,
   "id": "90213e12",
   "metadata": {},
   "outputs": [],
   "source": [
    "#  Write a class Train which has methods to book a ticket, get status(no of seats), \n",
    "#  and get fare information of trains running under Indian Railways."
   ]
  },
  {
   "cell_type": "code",
   "execution_count": 85,
   "id": "56f2b24f",
   "metadata": {},
   "outputs": [],
   "source": [
    "class Train:\n",
    "    def __init__(self,name,seats,fare):\n",
    "        self.name=name\n",
    "        self.seats=seats\n",
    "        self.fare=fare\n",
    "    def getstatus(self):\n",
    "        print(\"The name of the train is  \",self.name)\n",
    "        print(\"The seats avaialbale in train is  \",self.seats)\n",
    "        print(\"The Fare of one seat is  \",self.fare,\"in third AC\")\n",
    "    def bookticket(self):\n",
    "        if self.seats>0:\n",
    "            print(\"Your Ticket Has Been Booked\")\n",
    "            self.seats=self.seats-1\n",
    "        else:\n",
    "            print(\"No , Left seats. Please Try at tatka\")"
   ]
  },
  {
   "cell_type": "code",
   "execution_count": 86,
   "id": "d3ed5742",
   "metadata": {},
   "outputs": [],
   "source": [
    "v=Train(\"Sarnath Express\",250,1690)"
   ]
  },
  {
   "cell_type": "code",
   "execution_count": null,
   "id": "3a330628",
   "metadata": {},
   "outputs": [],
   "source": []
  },
  {
   "cell_type": "code",
   "execution_count": 87,
   "id": "06a96f6c",
   "metadata": {},
   "outputs": [
    {
     "name": "stdout",
     "output_type": "stream",
     "text": [
      "Your Ticket Has Been Booked\n"
     ]
    }
   ],
   "source": [
    "v.bookticket()"
   ]
  },
  {
   "cell_type": "code",
   "execution_count": 88,
   "id": "76373b00",
   "metadata": {},
   "outputs": [
    {
     "name": "stdout",
     "output_type": "stream",
     "text": [
      "The name of the train is   Sarnath Express\n",
      "The seats avaialbale in train is   249\n",
      "The Fare of one seat is   1690 in third AC\n"
     ]
    }
   ],
   "source": [
    "v.getstatus()"
   ]
  },
  {
   "cell_type": "code",
   "execution_count": 89,
   "id": "4de8793c",
   "metadata": {},
   "outputs": [],
   "source": [
    "#  Can you change the self parameter inside a class to something else (say ‘harry’)? \n",
    "#  Try changing self to ‘slf’ or ‘harry’ and see the effects."
   ]
  },
  {
   "cell_type": "code",
   "execution_count": 90,
   "id": "3f7e4825",
   "metadata": {},
   "outputs": [],
   "source": [
    "class Demo:\n",
    "    def __init__(xyz,name):\n",
    "        xyz.name=name\n",
    "        "
   ]
  },
  {
   "cell_type": "code",
   "execution_count": 97,
   "id": "d88544b3",
   "metadata": {},
   "outputs": [],
   "source": [
    "k=Demo(\"Saurav\")"
   ]
  },
  {
   "cell_type": "code",
   "execution_count": 101,
   "id": "9b860ac3",
   "metadata": {},
   "outputs": [
    {
     "data": {
      "text/plain": [
       "'Saurav'"
      ]
     },
     "execution_count": 101,
     "metadata": {},
     "output_type": "execute_result"
    }
   ],
   "source": [
    "k.name  #yes its work with another name ."
   ]
  },
  {
   "cell_type": "code",
   "execution_count": null,
   "id": "80180f45",
   "metadata": {},
   "outputs": [],
   "source": [
    "#Basic class of Exercise\n",
    "# Student of Data Science \n",
    "# Student of Data DTrained- Saurav\n",
    "# Date= 30-June-2022"
   ]
  }
 ],
 "metadata": {
  "kernelspec": {
   "display_name": "Python 3 (ipykernel)",
   "language": "python",
   "name": "python3"
  },
  "language_info": {
   "codemirror_mode": {
    "name": "ipython",
    "version": 3
   },
   "file_extension": ".py",
   "mimetype": "text/x-python",
   "name": "python",
   "nbconvert_exporter": "python",
   "pygments_lexer": "ipython3",
   "version": "3.9.12"
  }
 },
 "nbformat": 4,
 "nbformat_minor": 5
}
